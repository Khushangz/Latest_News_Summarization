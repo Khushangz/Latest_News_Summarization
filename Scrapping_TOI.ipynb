{
  "nbformat": 4,
  "nbformat_minor": 0,
  "metadata": {
    "colab": {
      "provenance": []
    },
    "kernelspec": {
      "name": "python3",
      "display_name": "Python 3"
    },
    "language_info": {
      "name": "python"
    }
  },
  "cells": [
    {
      "cell_type": "code",
      "source": [
        "pip install requests"
      ],
      "metadata": {
        "colab": {
          "base_uri": "https://localhost:8080/"
        },
        "id": "DNqzN1ks3Wig",
        "outputId": "a8418fa5-e5dc-4be7-afce-8de4671237fd"
      },
      "execution_count": 1,
      "outputs": [
        {
          "output_type": "stream",
          "name": "stdout",
          "text": [
            "Requirement already satisfied: requests in /usr/local/lib/python3.10/dist-packages (2.32.3)\n",
            "Requirement already satisfied: charset-normalizer<4,>=2 in /usr/local/lib/python3.10/dist-packages (from requests) (3.3.2)\n",
            "Requirement already satisfied: idna<4,>=2.5 in /usr/local/lib/python3.10/dist-packages (from requests) (3.10)\n",
            "Requirement already satisfied: urllib3<3,>=1.21.1 in /usr/local/lib/python3.10/dist-packages (from requests) (2.2.3)\n",
            "Requirement already satisfied: certifi>=2017.4.17 in /usr/local/lib/python3.10/dist-packages (from requests) (2024.8.30)\n"
          ]
        }
      ]
    },
    {
      "cell_type": "code",
      "source": [
        "pip install beautifulsoup"
      ],
      "metadata": {
        "id": "NKN5wqZf3Y7i"
      },
      "execution_count": null,
      "outputs": []
    },
    {
      "cell_type": "code",
      "source": [
        "from bs4 import BeautifulSoup\n",
        "from transformers import pipeline\n",
        "from textblob import TextBlob\n",
        "import requests\n",
        "data_dictionary = {\n",
        "    1: \"India\",\n",
        "    2: \"Corona-Virus\",\n",
        "    3: \"World\",\n",
        "    4: \"Bank\"\n",
        "}\n",
        "print(\"\"\"\n",
        "  Enter number corresponding to topic of preference:\n",
        "  1--- India\n",
        "  2--- Corona-Virus\n",
        "  3--- World\n",
        "  4--- Bank\n",
        "\"\"\"\n",
        ")\n",
        "x=int(input())\n",
        "querry=data_dictionary[x]\n",
        "\n",
        "response = requests.get('https://timesofindia.indiatimes.com/topic/'+querry+'/news')\n",
        "soup = BeautifulSoup(response.content, 'html.parser')\n",
        "top_news_links = soup.find_all(class_='row' )\n",
        "link=top_news_links[0].find(\"a\",frmappuse=\"1\")\n",
        "link=link[\"href\"]\n",
        "response = requests.get(link)\n",
        "soup = BeautifulSoup(response.content, 'html.parser')\n",
        "info=soup.text\n",
        "summarizer = pipeline(\"summarization\", model=\"Falconsai/text_summarization\")\n",
        "ARTICLE = info\n",
        "summary=summarizer(ARTICLE, max_length=230, min_length=30, do_sample=False)\n",
        "for item in summary:\n",
        "    print(item['summary_text'])\n",
        "    example_text = item['summary_text']\n",
        "    blob = TextBlob(example_text)\n",
        "    sentiment = blob.sentiment\n",
        "    print(sentiment)\n"
      ],
      "metadata": {
        "id": "EQTUwm2C3gPa"
      },
      "execution_count": null,
      "outputs": []
    },
    {
      "cell_type": "code",
      "source": [
        "import re\n",
        "def split_text_on_capitals(text):\n",
        "    def split_on_capitals_ascii(word):\n",
        "        segments = []\n",
        "        current_segment = \"\"\n",
        "\n",
        "        for char in word:\n",
        "            if 65 <= ord(char) <= 90:\n",
        "                if current_segment:\n",
        "                    segments.append(current_segment)\n",
        "                current_segment = char\n",
        "            else:\n",
        "                current_segment += char\n",
        "\n",
        "        if current_segment:\n",
        "            segments.append(current_segment)\n",
        "\n",
        "        return segments\n",
        "\n",
        "    for sentences in text:\n",
        "      words = sentences.split()\n",
        "      processed_words = []\n",
        "      for word in words:\n",
        "          split_words = split_on_capitals_ascii(word)\n",
        "          processed_words.extend(split_words)\n",
        "      with open(\"/content/text2\",\"a\") as f:\n",
        "        f.write(' '.join(processed_words))\n",
        "        f.write(\"\\n\")\n",
        "    with open(\"/content/text2\",\"r\") as f:\n",
        "      l=f.readlines()\n",
        "    with open(\"/content/text3\",\"w\") as f:\n",
        "      g=0\n",
        "    for words in l:\n",
        "      word=words.split()\n",
        "      i=0\n",
        "      full_word=\"\"\n",
        "      sentence=\"\"\n",
        "      while i < (len(word)):\n",
        "        if len(word[i])==1:\n",
        "          if word[i].isupper:\n",
        "            print(word[i])\n",
        "            full_word=\"\"\n",
        "            while len(word[i])==1:\n",
        "              full_word+=word[i]\n",
        "              i=i+1\n",
        "              if i>=len(word):\n",
        "                break\n",
        "            print(full_word)\n",
        "            sentence+=\" \"+full_word\n",
        "        else:\n",
        "          sentence+=\" \" +word[i]\n",
        "          i+=1\n",
        "      with open(\"/content/text3\",\"a\") as f:\n",
        "        f.write(sentence)\n",
        "        f.write(\"\\n\")\n",
        "      with open(\"/content/text3\",\"r\") as f:\n",
        "        l=f.readlines()\n",
        "      with open(\"/content/text3\",\"w\") as f:\n",
        "        for i in l[0:27]:\n",
        "          a=i.replace(\"\\n\",\"\")\n",
        "          if len(a)==1:\n",
        "            continue\n",
        "          f.write(i)\n",
        "    sentences=soup.text.split(\".\")\n",
        "    with open(\"/content/text\",\"w\") as f:\n",
        "      for i in sentences:\n",
        "        if (\"1 \") in i or (\"2 \") in i:\n",
        "          i=i.replace(\"1 \",\"\")\n",
        "          i=i.replace(\"2 \",\"\")\n",
        "        f.write(i)\n",
        "        f.write(\"\\n\")\n",
        "# Example text\n",
        "with open(\"/content/text\",\"r\") as f:\n",
        "  text=f.readlines()\n",
        "with open(\"/content/text2\",\"w\") as f:\n",
        "  g=0\n",
        "\n",
        "split_text_on_capitals(text)\n",
        "\n",
        "# names=[]\n",
        "\n",
        "\n"
      ],
      "metadata": {
        "id": "2jvPlNkHPb1t"
      },
      "execution_count": null,
      "outputs": []
    },
    {
      "cell_type": "markdown",
      "source": [
        "Lementization\n",
        "Stemming"
      ],
      "metadata": {
        "id": "4FPmIwNzJuAu"
      }
    },
    {
      "cell_type": "code",
      "source": [
        "import spacy\n",
        "with open(\"/content/text3\",\"r\") as f:\n",
        "  text=f.readlines()\n",
        "nlp = spacy.load(\"en_core_web_sm\")\n",
        "\n",
        "for i in text:\n",
        "  doc = nlp(i)\n",
        "  entities = [(entity.text, entity.label_) for entity in doc.ents]\n",
        "  print(entities)\n"
      ],
      "metadata": {
        "colab": {
          "base_uri": "https://localhost:8080/"
        },
        "id": "ahwhhZ2TaSx2",
        "outputId": "20928fe8-8e67-455b-ed2f-e3f938c52310"
      },
      "execution_count": null,
      "outputs": [
        {
          "output_type": "stream",
          "name": "stdout",
          "text": [
            "[('JN', 'GPE')]\n",
            "[('Covid', 'PERSON'), ('India News - Times of India Edition ININUS Sign', 'ORG'), ('Maharashtra Delhi', 'PERSON'), ('Karnataka Tamil Nadu Telangana', 'PERSON'), ('West Bengal', 'ORG'), ('Gujarat Madhya Pradesh', 'ORG'), ('Bihar Chandigarh Rajasthan Arunachal', 'PERSON'), ('Jammu Kashmir Jharkhand', 'PERSON'), ('Kerala Manipur Meghalaya Mizoram', 'ORG'), ('Odisha Punjab', 'PERSON'), ('JN', 'GPE')]\n",
            "[('Covid', 'PERSON'), ('2024', 'DATE'), ('Mehbooba Mufti', 'PERSON'), ('AFG Maharashtra Shiv Sena Row Mumbai', 'ORG'), ('Suchana Seth Boycott', 'PERSON'), ('Gujarat', 'GPE'), ('2024', 'DATE'), ('Mehbooba Mufti', 'PERSON'), ('AFG Maharashtra Shiv Sena Row Mumbai', 'ORG'), ('Suchana Seth Boycott', 'PERSON'), ('Gujarat', 'GPE'), ('2024', 'DATE'), ('Mehbooba Mufti', 'PERSON'), ('AFG Maharashtra Shiv Sena Row Mumbai', 'ORG'), ('Suchana Seth Boycott Maldives Health', 'PERSON'), ('JN', 'GPE')]\n",
            "[('Covid', 'PERSON'), ('TOI News Desk', 'ORG')]\n",
            "[('Dec 24, 2023', 'DATE'), ('16:0', 'CARDINAL'), ('Text Size Small Medium Large Follow', 'ORG'), ('JN', 'PERSON')]\n",
            "[]\n",
            "[('Maharashtra', 'NORP'), ('Sanjay Bansode', 'PERSON')]\n",
            "[('Latur', 'GPE')]\n",
            "[('Collector Varsha Thakur- Ghuge', 'ORG'), ('Anmol Sagar', 'PERSON'), ('Superintendent Somay Munde', 'ORG'), ('Babasaheb Manohare', 'PERSON')]\n",
            "[('December 21', 'DATE'), ('2cases', 'CARDINAL'), ('JN', 'PERSON')]\n",
            "[]\n",
            "[('JN', 'GPE')]\n",
            "[]\n",
            "[('Maharashtra', 'NORP'), ('Sanjay Bansode', 'PERSON'), ('Saturday', 'DATE')]\n",
            "[]\n",
            "[('Latur', 'GPE')]\n",
            "[('Collector Varsha Thakur- Ghuge', 'ORG'), ('Anmol Sagar', 'PERSON'), ('Police Somay Munde', 'ORG'), ('Babasaheb Manohare', 'PERSON')]\n",
            "[('December 21', 'DATE'), ('2cases', 'CARDINAL'), ('JN', 'PERSON')]\n",
            "[]\n",
            "[('August', 'DATE'), ('Luxembourg', 'GPE'), ('BA', 'NORP')]\n",
            "[('2', 'CARDINAL')]\n",
            "[('86', 'CARDINAL')]\n",
            "[('India', 'GPE'), ('Sunday', 'DATE'), ('656', 'CARDINAL'), ('covid-19', 'PERSON'), ('3,742', 'CARDINAL')]\n",
            "[]\n",
            "[('Bansode', 'ORG')]\n",
            "[]\n",
            "[('Dr Vadgave', 'PERSON')]\n"
          ]
        }
      ]
    },
    {
      "cell_type": "code",
      "source": [
        "from nltk.stem import PorterStemmer\n",
        "dict1={}\n",
        "text=\"\"\n",
        "with open(\"/content/text3\",\"r\") as f:\n",
        "  text=f.readlines()\n",
        "stemmer=PorterStemmer()\n",
        "for l in text:\n",
        "  words=l.split()\n",
        "  for word in words:\n",
        "    word=word.replace(\",\",\"\")\n",
        "    if word.isalpha():\n",
        "      dict1[word]=stemmer.stem(word)\n",
        "print(dict1)\n"
      ],
      "metadata": {
        "colab": {
          "base_uri": "https://localhost:8080/"
        },
        "id": "VOpjeggdkaPY",
        "outputId": "27468f14-a369-4ad7-a535-7c0d863ea34c"
      },
      "execution_count": null,
      "outputs": [
        {
          "output_type": "stream",
          "name": "stdout",
          "text": [
            "{'Health': 'health', 'officials': 'offici', 'asked': 'ask', 'to': 'to', 'ensure': 'ensur', 'availability': 'avail', 'of': 'of', 'ventilators': 'ventil', 'oxygen': 'oxygen', 'cylinders': 'cylind', 'amid': 'amid', 'surge': 'surg', 'in': 'in', 'JN': 'jn', 'Covid': 'covid', 'variant': 'variant', 'cases': 'case', 'India': 'india', 'News': 'new', 'Times': 'time', 'Edition': 'edit', 'ININUS': 'ininu', 'Sign': 'sign', 'In': 'in', 'TO': 'to', 'Iindia': 'iindia', 'Ayodhya': 'ayodhya', 'Ram': 'ram', 'Temple': 'templ', 'Saving': 'save', 'Our': 'our', 'Stripes': 'stripe', 'Evoke': 'evok', 'Maharashtra': 'maharashtra', 'Delhi': 'delhi', 'Karnataka': 'karnataka', 'Tamil': 'tamil', 'Nadu': 'nadu', 'Telangana': 'telangana', 'Uttar': 'uttar', 'Pradesh': 'pradesh', 'West': 'west', 'Bengal': 'bengal', 'Gujarat': 'gujarat', 'Madhya': 'madhya', 'Bihar': 'bihar', 'Chandigarh': 'chandigarh', 'Rajasthan': 'rajasthan', 'Arunachal': 'arunach', 'Andhra': 'andhra', 'Assam': 'assam', 'Chhattisgarh': 'chhattisgarh', 'Goa': 'goa', 'Haryana': 'haryana', 'Himachal': 'himach', 'Jammu': 'jammu', 'Kashmir': 'kashmir', 'Jharkhand': 'jharkhand', 'Kerala': 'kerala', 'Manipur': 'manipur', 'Meghalaya': 'meghalaya', 'Mizoram': 'mizoram', 'Nagaland': 'nagaland', 'Odisha': 'odisha', 'Punjab': 'punjab', 'Sikkim': 'sikkim', 'Tripura': 'tripura', 'Uttarakhand': 'uttarakhand', 'Andaman': 'andaman', 'Nicobar': 'nicobar', 'Islands': 'island', 'Dadra': 'dadra', 'Nagar': 'nagar', 'Haveli': 'have', 'Daman': 'daman', 'Diu': 'diu', 'Lakshadweep': 'lakshadweep', 'Pondicherry': 'pondicherri', 'Web': 'web', 'Stories': 'stori', 'Trending': 'trend', 'Vibrant': 'vibrant', 'Summit': 'summit', 'Mehbooba': 'mehbooba', 'Mufti': 'mufti', 'IND': 'ind', 'vs': 'vs', 'AFG': 'afg', 'Shiv': 'shiv', 'Sena': 'sena', 'Row': 'row', 'Mumbai': 'mumbai', 'Trans': 'tran', 'Harbour': 'harbour', 'Link': 'link', 'Who': 'who', 'is': 'is', 'Suchana': 'suchana', 'Seth': 'seth', 'Boycott': 'boycott', 'Maldives': 'maldiv', 'TOI': 'toi', 'Desk': 'desk', 'Dec': 'dec', 'IST': 'ist', 'Share': 'share', 'A': 'a', 'Text': 'text', 'Size': 'size', 'Small': 'small', 'Medium': 'medium', 'Large': 'larg', 'Follow': 'follow', 'us': 'us', 'The': 'the', 'the': 'the', 'covid': 'covid', 'a': 'a', 'new': 'new', 'concern': 'concern', 'for': 'for', 'government': 'govern', 'and': 'and', 'citizens': 'citizen', 'Minister': 'minist', 'Sanjay': 'sanjay', 'Bansode': 'bansod', 'instructed': 'instruct', 'health': 'health', 'necessary': 'necessari', 'equipment': 'equip', 'take': 'take', 'precautionary': 'precautionari', 'measures': 'measur', 'meeting': 'meet', 'Latur': 'latur', 'focused': 'focus', 'on': 'on', 'ensuring': 'ensur', 'medicines': 'medicin', 'at': 'at', 'facilities': 'facil', 'Collector': 'collector', 'Varsha': 'varsha', 'Ghuge': 'ghuge', 'CEO': 'ceo', 'Anmol': 'anmol', 'Sagar': 'sagar', 'Superintendent': 'superintend', 'Somay': 'somay', 'Munde': 'mund', 'Commissioner': 'commission', 'Babasaheb': 'babasaheb', 'Manohare': 'manohar', 'other': 'other', 'attended': 'attend', 'Till': 'till', 'December': 'decemb', 'have': 'have', 'been': 'been', 'reported': 'report', 'country': 'countri', 'LATU': 'latu', 'now': 'now', 'as': 'as', 'well': 'well', 'Meanwhile': 'meanwhil', 'Saturday': 'saturday', 'including': 'includ', 'others': 'other', 'hospitals': 'hospit', 'minister': 'minist', 'also': 'also', 'urged': 'urg', 'department': 'depart', 'held': 'held', 'all': 'all', 'As': 'as', 'per': 'per', 'news': 'news', 'reports': 'report', 'chief': 'chief', 'executive': 'execut', 'officer': 'offic', 'superintendent': 'superintend', 'Police': 'polic', 'municipal': 'municip', 'commissioner': 'commission', 'senior': 'senior', 'marked': 'mark', 'their': 'their', 'presence': 'presenc', 'According': 'accord', 'report': 'report', 'PT': 'pt', 'I': 'i', 'had': 'had', 'emerged': 'emerg', 'August': 'august', 'Luxembourg': 'luxembourg', 'descendant': 'descend', 'BA': 'ba', 'lineage': 'lineag', 'SAR': 'sar', 'CO': 'co', 'Sunday': 'sunday', 'saw': 'saw', 'rise': 'rise', 'infections': 'infect', 'taking': 'take', 'active': 'activ', 'tally': 'talli', 'administration': 'administr', 'should': 'should', 'that': 'that', 'are': 'are', 'available': 'avail', 'tehsil': 'tehsil', 'centres': 'centr', 'condition': 'condit', 'plants': 'plant', 'be': 'be', 'said': 'said', 'He': 'he', 'further': 'further', 'asserted': 'assert', 'construction': 'construct', 'primary': 'primari', 'institutions': 'institut', 'district': 'district', 'completed': 'complet', 'soon': 'soon', 'District': 'district', 'Dr': 'dr', 'Vadgave': 'vadgav', 'informed': 'inform', 'because': 'becaus', 'emergence': 'emerg', 'testing': 'test', 'kits': 'kit', 'made': 'made', 'check': 'check', 'symptomatic': 'symptomat', 'patients': 'patient'}\n"
          ]
        }
      ]
    },
    {
      "cell_type": "code",
      "source": [
        "import spacy\n",
        "dict2={}\n",
        "lem=spacy.load(\"en_core_web_sm\")\n",
        "for l in text:\n",
        "  doc=lem(l)\n",
        "  for word in doc:\n",
        "    if word.is_alpha:\n",
        "      dict2[word]=word.lemma_\n",
        "print(dict2)\n"
      ],
      "metadata": {
        "colab": {
          "base_uri": "https://localhost:8080/"
        },
        "id": "E1nYfvsvo7an",
        "outputId": "f1c7fc47-7997-43ef-b233-c01c5dc20f14"
      },
      "execution_count": null,
      "outputs": [
        {
          "output_type": "stream",
          "name": "stdout",
          "text": [
            "{Health: 'Health', officials: 'official', asked: 'ask', to: 'to', ensure: 'ensure', availability: 'availability', of: 'of', ventilators: 'ventilator', oxygen: 'oxygen', cylinders: 'cylinder', amid: 'amid', surge: 'surge', in: 'in', JN: 'JN', Covid: 'covid', variant: 'variant', cases: 'case', India: 'India', News: 'News', Times: 'Times', of: 'of', India: 'India', Edition: 'Edition', ININUS: 'ININUS', Sign: 'Sign', In: 'in', TO: 'to', Iindia: 'Iindia', Ayodhya: 'Ayodhya', Ram: 'Ram', Temple: 'Temple', Saving: 'save', Our: 'our', Stripes: 'Stripes', Times: 'Times', Evoke: 'Evoke', Maharashtra: 'Maharashtra', Delhi: 'Delhi', Karnataka: 'Karnataka', Tamil: 'Tamil', Nadu: 'Nadu', Telangana: 'Telangana', Uttar: 'Uttar', Pradesh: 'Pradesh', West: 'West', Bengal: 'Bengal', Gujarat: 'Gujarat', Madhya: 'Madhya', Pradesh: 'Pradesh', Bihar: 'Bihar', Chandigarh: 'Chandigarh', Rajasthan: 'Rajasthan', Arunachal: 'Arunachal', Pradesh: 'Pradesh', Andhra: 'Andhra', Pradesh: 'Pradesh', Assam: 'Assam', Chhattisgarh: 'Chhattisgarh', Goa: 'Goa', Haryana: 'Haryana', Himachal: 'Himachal', Pradesh: 'Pradesh', Jammu: 'Jammu', Kashmir: 'Kashmir', Jharkhand: 'Jharkhand', Kerala: 'Kerala', Manipur: 'Manipur', Meghalaya: 'Meghalaya', Mizoram: 'Mizoram', Nagaland: 'Nagaland', Odisha: 'Odisha', Punjab: 'Punjab', Sikkim: 'Sikkim', Tripura: 'Tripura', Uttarakhand: 'Uttarakhand', Andaman: 'Andaman', Nicobar: 'Nicobar', Islands: 'Islands', Dadra: 'Dadra', Nagar: 'Nagar', Haveli: 'Haveli', Daman: 'Daman', Diu: 'Diu', Lakshadweep: 'Lakshadweep', Pondicherry: 'Pondicherry', Web: 'Web', Stories: 'Stories', News: 'News', India: 'India', News: 'News', Health: 'Health', officials: 'official', asked: 'ask', to: 'to', ensure: 'ensure', availability: 'availability', of: 'of', ventilators: 'ventilator', oxygen: 'oxygen', cylinders: 'cylinder', amid: 'amid', surge: 'surge', in: 'in', JN: 'JN', Covid: 'covid', variant: 'variant', cases: 'case', Trending: 'trend', Vibrant: 'Vibrant', Gujarat: 'Gujarat', Summit: 'Summit', Mehbooba: 'Mehbooba', Mufti: 'Mufti', IND: 'IND', vs: 'vs', AFG: 'AFG', Maharashtra: 'Maharashtra', Shiv: 'Shiv', Sena: 'Sena', Row: 'Row', Mumbai: 'Mumbai', Trans: 'Trans', Harbour: 'Harbour', Link: 'Link', India: 'India', Covid: 'Covid', News: 'News', Who: 'who', is: 'be', Suchana: 'Suchana', Seth: 'Seth', Boycott: 'Boycott', Maldives: 'Maldives', Vibrant: 'Vibrant', Gujarat: 'Gujarat', Summit: 'Summit', Mehbooba: 'Mehbooba', Mufti: 'Mufti', IND: 'IND', vs: 'vs', AFG: 'AFG', Maharashtra: 'Maharashtra', Shiv: 'Shiv', Sena: 'Sena', Row: 'Row', Mumbai: 'Mumbai', Trans: 'Trans', Harbour: 'Harbour', Link: 'Link', India: 'India', Covid: 'Covid', News: 'News', Who: 'who', is: 'be', Suchana: 'Suchana', Seth: 'Seth', Boycott: 'Boycott', Maldives: 'Maldives', Vibrant: 'Vibrant', Gujarat: 'Gujarat', Summit: 'Summit', Mehbooba: 'Mehbooba', Mufti: 'Mufti', IND: 'IND', vs: 'vs', AFG: 'AFG', Maharashtra: 'Maharashtra', Shiv: 'Shiv', Sena: 'Sena', Row: 'Row', Mumbai: 'Mumbai', Trans: 'Trans', Harbour: 'Harbour', Link: 'Link', India: 'India', Covid: 'Covid', News: 'News', Who: 'who', is: 'be', Suchana: 'Suchana', Seth: 'Seth', Boycott: 'Boycott', Maldives: 'Maldives', Health: 'Health', officials: 'official', asked: 'ask', to: 'to', ensure: 'ensure', availability: 'availability', of: 'of', ventilators: 'ventilator', oxygen: 'oxygen', cylinders: 'cylinder', amid: 'amid', surge: 'surge', in: 'in', JN: 'JN', Covid: 'covid', variant: 'variant', cases: 'case', TOI: 'TOI', News: 'News', Desk: 'Desk', Dec: 'Dec', IST: 'IST', Share: 'Share', A: 'a', Text: 'Text', Size: 'Size', Small: 'Small', Medium: 'Medium', Large: 'Large', Follow: 'follow', us: 'we', The: 'the', surge: 'surge', in: 'in', cases: 'case', of: 'of', the: 'the', JN: 'JN', covid: 'covid', variant: 'variant', is: 'be', a: 'a', new: 'new', concern: 'concern', for: 'for', the: 'the', government: 'government', and: 'and', citizens: 'citizen', Maharashtra: 'Maharashtra', Minister: 'Minister', Sanjay: 'Sanjay', Bansode: 'Bansode', instructed: 'instruct', health: 'health', officials: 'official', to: 'to', ensure: 'ensure', the: 'the', availability: 'availability', of: 'of', necessary: 'necessary', equipment: 'equipment', and: 'and', take: 'take', precautionary: 'precautionary', measures: 'measure', The: 'the', meeting: 'meeting', in: 'in', Latur: 'Latur', focused: 'focus', on: 'on', ensuring: 'ensure', the: 'the', availability: 'availability', of: 'of', equipment: 'equipment', and: 'and', medicines: 'medicine', at: 'at', government: 'government', run: 'run', facilities: 'facility', Collector: 'Collector', Varsha: 'Varsha', Ghuge: 'Ghuge', CEO: 'CEO', Anmol: 'Anmol', Sagar: 'Sagar', Superintendent: 'Superintendent', Somay: 'Somay', Munde: 'Munde', Commissioner: 'Commissioner', Babasaheb: 'Babasaheb', Manohare: 'Manohare', and: 'and', other: 'other', officials: 'official', attended: 'attend', the: 'the', meeting: 'meeting', Till: 'till', December: 'December', of: 'of', the: 'the', JN: 'JN', variant: 'variant', have: 'have', been: 'be', reported: 'report', in: 'in', the: 'the', country: 'country', Health: 'Health', officials: 'official', asked: 'ask', to: 'to', ensure: 'ensure', availability: 'availability', of: 'of', ventilators: 'ventilator', oxygen: 'oxygen', cylinders: 'cylinder', AN: 'an', I: 'i', LATU: 'latu', R: 'r', The: 'the', surge: 'surge', in: 'in', JN: 'JN', covid: 'covid', variant: 'variant', cases: 'case', is: 'be', now: 'now', a: 'a', new: 'new', concern: 'concern', for: 'for', the: 'the', government: 'government', as: 'as', well: 'well', as: 'as', the: 'the', citizens: 'citizen', Meanwhile: 'meanwhile', Maharashtra: 'Maharashtra', Minister: 'Minister', Sanjay: 'Sanjay', Bansode: 'Bansode', in: 'in', a: 'a', meeting: 'meeting', on: 'on', Saturday: 'Saturday', instructed: 'instruct', health: 'health', officials: 'official', to: 'to', ensure: 'ensure', the: 'the', availability: 'availability', of: 'of', necessary: 'necessary', equipment: 'equipment', including: 'include', ventilators: 'ventilator', oxygen: 'oxygen', cylinders: 'cylinder', and: 'and', others: 'other', at: 'at', government: 'government', hospitals: 'hospital', The: 'the', minister: 'minister', also: 'also', urged: 'urge', the: 'the', health: 'health', department: 'department', to: 'to', take: 'take', precautionary: 'precautionary', measures: 'measure', The: 'the', meeting: 'meeting', held: 'hold', in: 'in', Latur: 'Latur', focused: 'focus', on: 'on', ensuring: 'ensure', the: 'the', availability: 'availability', of: 'of', necessary: 'necessary', equipment: 'equipment', and: 'and', medicines: 'medicine', at: 'at', all: 'all', government: 'government', run: 'run', facilities: 'facility', As: 'as', per: 'per', the: 'the', news: 'news', reports: 'report', Collector: 'Collector', Varsha: 'Varsha', Ghuge: 'Ghuge', chief: 'chief', executive: 'executive', officer: 'officer', Anmol: 'Anmol', Sagar: 'Sagar', superintendent: 'superintendent', of: 'of', Police: 'Police', Somay: 'Somay', Munde: 'Munde', municipal: 'municipal', commissioner: 'commissioner', Babasaheb: 'Babasaheb', Manohare: 'Manohare', and: 'and', other: 'other', senior: 'senior', officials: 'official', marked: 'mark', their: 'their', presence: 'presence', in: 'in', the: 'the', meeting: 'meeting', Till: 'till', December: 'December', of: 'of', the: 'the', JN: 'JN', variant: 'variant', have: 'have', been: 'be', reported: 'report', in: 'in', the: 'the', country: 'country', According: 'accord', to: 'to', a: 'a', report: 'report', of: 'of', PT: 'PT', I: 'I', the: 'the', covid: 'covid', variant: 'variant', had: 'have', emerged: 'emerge', in: 'in', August: 'August', in: 'in', Luxembourg: 'Luxembourg', and: 'and', is: 'be', a: 'a', descendant: 'descendant', of: 'of', the: 'the', BA: 'BA', lineage: 'lineage', Pirola: 'Pirola', of: 'of', SAR: 'SAR', CO: 'CO', India: 'India', on: 'on', Sunday: 'Sunday', saw: 'see', a: 'a', single: 'single', day: 'day', rise: 'rise', of: 'of', infections: 'infection', taking: 'take', the: 'the', active: 'active', cases: 'case', tally: 'tally', to: 'to', The: 'the', administration: 'administration', should: 'should', ensure: 'ensure', that: 'that', necessary: 'necessary', equipment: 'equipment', and: 'and', medicines: 'medicine', are: 'be', available: 'available', at: 'at', tehsil: 'tehsil', health: 'health', centres: 'centre', The: 'the', condition: 'condition', of: 'of', oxygen: 'oxygen', plants: 'plant', should: 'should', also: 'also', be: 'be', checked: 'check', Bansode: 'Bansode', said: 'say', He: 'he', further: 'far', asserted: 'assert', that: 'that', the: 'the', construction: 'construction', of: 'of', primary: 'primary', health: 'health', centres: 'centre', and: 'and', other: 'other', health: 'health', institutions: 'institution', in: 'in', the: 'the', district: 'district', should: 'should', be: 'be', completed: 'complete', soon: 'soon', District: 'District', health: 'health', officer: 'officer', Dr: 'Dr', Vadgave: 'Vadgave', informed: 'inform', that: 'that', because: 'because', of: 'of', the: 'the', emergence: 'emergence', of: 'of', the: 'the', new: 'new', variant: 'variant', testing: 'testing', kits: 'kit', have: 'have', been: 'be', made: 'make', available: 'available', to: 'to', check: 'check', symptomatic: 'symptomatic', patients: 'patient'}\n"
          ]
        }
      ]
    }
  ]
}